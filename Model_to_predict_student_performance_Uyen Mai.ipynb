{
 "cells": [
  {
   "cell_type": "markdown",
   "id": "aeae98ef-3537-448a-a707-c36150592a36",
   "metadata": {},
   "source": [
    "## I. Project Description\n",
    "Academic success is a priority for students, faculty, and administration alike, and identifying students who may struggle can have a transformative impact. Since many factors can influence whether a student passes or fails, I decided to build a model to predict student performance based on some of the most relevant indicators. This model could provide early insights into student progress, helping educators and administrators offer timely interventions—such as tutoring, counseling, or customized learning plans—to improve the likelihood of course completion and support academic success."
   ]
  },
  {
   "attachments": {},
   "cell_type": "markdown",
   "id": "88455df8-f82c-43c7-a466-e2826f0c27a9",
   "metadata": {},
   "source": [
    "This data set has around <b>40,000 rows</b> and <b>7 variables</b>: 2 boolean, 2 string, and 3 decimal\n",
    "    <ul>\n",
    "        <li>The booleans include participation in extracurricular activities and passed.</li>\n",
    "        <li>The strings include student ID and parent education level.</li>\n",
    "        <li>The decimals include study hours per week, attendance rate and previous grades.</li>\n",
    "    </ul>"
   ]
  },
  {
   "cell_type": "markdown",
   "id": "e874a220-c839-401e-84cb-796360e246a6",
   "metadata": {},
   "source": [
    "From the data, the dependent variable (y) we are trying to predict is `Passed`, and the rest are feature variables."
   ]
  },
  {
   "cell_type": "markdown",
   "id": "78a31675-dcd5-4cce-9b76-3c75e8dfa252",
   "metadata": {},
   "source": [
    "## II. Data Analysis\n",
    "### A. Project Functions\n",
    "I will use below modules to support my model development:\n",
    "<ul>\n",
    "    <li><b>numpy</b>, <b>pandas</b>, and <b>copy</b>: to handle data cleaning and calculation</li>\n",
    "    <li><b>matplotlib</b>: to graph data</li>\n",
    "    <li><b>sklearn</b>: to run classification models</li>\n",
    "</ul>"
   ]
  },
  {
   "cell_type": "code",
   "execution_count": 5,
   "id": "464bcbe3-c128-497a-94c7-b69b7f15c3c8",
   "metadata": {},
   "outputs": [],
   "source": [
    "import numpy as np\n",
    "import pandas as pd\n",
    "import matplotlib.pyplot as plt\n",
    "import copy\n",
    "import seaborn as sns\n",
    "\n",
    "from sklearn.preprocessing import MinMaxScaler, StandardScaler\n",
    "from sklearn import mixture\n",
    "\n",
    "from sklearn.model_selection import train_test_split, GridSearchCV\n",
    "from sklearn import svm, linear_model, datasets\n",
    "from sklearn.tree import DecisionTreeClassifier\n",
    "from sklearn import tree\n",
    "from sklearn.neighbors import KNeighborsClassifier\n",
    "from sklearn.metrics import confusion_matrix, precision_score, recall_score, RocCurveDisplay, roc_auc_score, accuracy_score, classification_report\n",
    "\n",
    "from sklearn.ensemble import RandomForestClassifier\n",
    "from sklearn.ensemble import StackingClassifier\n",
    "from sklearn.ensemble import GradientBoostingClassifier\n",
    "from sklearn.tree import export_text\n",
    "from sklearn.utils.class_weight import compute_class_weight\n",
    "from scipy.stats import pointbiserialr\n",
    "from scipy.stats import chi2_contingency\n",
    "\n",
    "import warnings\n",
    "warnings. filterwarnings('ignore')"
   ]
  },
  {
   "cell_type": "markdown",
   "id": "886664b0-8e68-4662-ad4a-b7aaec756cd9",
   "metadata": {},
   "source": [
    "### B. Loading Data\n",
    "The dataset was downloaded from [Kaggle](https://www.kaggle.com/datasets/souradippal/student-performance-prediction/discussion/529331): `student_performance_prediction.csv`"
   ]
  },
  {
   "cell_type": "code",
   "execution_count": 7,
   "id": "d3135399-c182-4d9e-a98c-34f11030edab",
   "metadata": {},
   "outputs": [
    {
     "data": {
      "text/html": [
       "<div>\n",
       "<style scoped>\n",
       "    .dataframe tbody tr th:only-of-type {\n",
       "        vertical-align: middle;\n",
       "    }\n",
       "\n",
       "    .dataframe tbody tr th {\n",
       "        vertical-align: top;\n",
       "    }\n",
       "\n",
       "    .dataframe thead th {\n",
       "        text-align: right;\n",
       "    }\n",
       "</style>\n",
       "<table border=\"1\" class=\"dataframe\">\n",
       "  <thead>\n",
       "    <tr style=\"text-align: right;\">\n",
       "      <th></th>\n",
       "      <th>Student ID</th>\n",
       "      <th>Passed</th>\n",
       "      <th>Study Hours per Week</th>\n",
       "      <th>Attendance Rate</th>\n",
       "      <th>Previous Grades</th>\n",
       "      <th>Participation in Extracurricular Activities</th>\n",
       "      <th>Parent Education Level</th>\n",
       "    </tr>\n",
       "  </thead>\n",
       "  <tbody>\n",
       "    <tr>\n",
       "      <th>0</th>\n",
       "      <td>S00001</td>\n",
       "      <td>Yes</td>\n",
       "      <td>12.5</td>\n",
       "      <td>NaN</td>\n",
       "      <td>75.0</td>\n",
       "      <td>Yes</td>\n",
       "      <td>Master</td>\n",
       "    </tr>\n",
       "    <tr>\n",
       "      <th>1</th>\n",
       "      <td>S00002</td>\n",
       "      <td>No</td>\n",
       "      <td>9.3</td>\n",
       "      <td>95.3</td>\n",
       "      <td>60.6</td>\n",
       "      <td>No</td>\n",
       "      <td>High School</td>\n",
       "    </tr>\n",
       "    <tr>\n",
       "      <th>2</th>\n",
       "      <td>S00003</td>\n",
       "      <td>No</td>\n",
       "      <td>13.2</td>\n",
       "      <td>NaN</td>\n",
       "      <td>64.0</td>\n",
       "      <td>No</td>\n",
       "      <td>Associate</td>\n",
       "    </tr>\n",
       "    <tr>\n",
       "      <th>3</th>\n",
       "      <td>S00004</td>\n",
       "      <td>No</td>\n",
       "      <td>17.6</td>\n",
       "      <td>76.8</td>\n",
       "      <td>62.4</td>\n",
       "      <td>Yes</td>\n",
       "      <td>Bachelor</td>\n",
       "    </tr>\n",
       "    <tr>\n",
       "      <th>4</th>\n",
       "      <td>S00005</td>\n",
       "      <td>No</td>\n",
       "      <td>8.8</td>\n",
       "      <td>89.3</td>\n",
       "      <td>72.7</td>\n",
       "      <td>No</td>\n",
       "      <td>Master</td>\n",
       "    </tr>\n",
       "  </tbody>\n",
       "</table>\n",
       "</div>"
      ],
      "text/plain": [
       "  Student ID Passed  Study Hours per Week  Attendance Rate  Previous Grades  \\\n",
       "0     S00001    Yes                  12.5              NaN             75.0   \n",
       "1     S00002     No                   9.3             95.3             60.6   \n",
       "2     S00003     No                  13.2              NaN             64.0   \n",
       "3     S00004     No                  17.6             76.8             62.4   \n",
       "4     S00005     No                   8.8             89.3             72.7   \n",
       "\n",
       "  Participation in Extracurricular Activities Parent Education Level  \n",
       "0                                         Yes                 Master  \n",
       "1                                          No            High School  \n",
       "2                                          No              Associate  \n",
       "3                                         Yes               Bachelor  \n",
       "4                                          No                 Master  "
      ]
     },
     "execution_count": 7,
     "metadata": {},
     "output_type": "execute_result"
    }
   ],
   "source": [
    "df = pd.read_csv(\"student_performance_prediction.csv\")\n",
    "df.head(5)"
   ]
  },
  {
   "cell_type": "markdown",
   "id": "53940378-96e5-4252-b81e-db60bc20991f",
   "metadata": {},
   "source": [
    "### C. Reviewing Data\n",
    "#### 1. Check NA values\n",
    "To evaluate the completeness of the dataset, we examined each variable for missing values. The results indicate that:\n",
    "<ul>\n",
    "    <li>The Student ID variable contains no missing values.</li>\n",
    "    <li>Variables such as Study Hours per Week, Attendance Rate, Previous Grades, Participation in Extracurricular Activities, Parent Education Level, and Passed each contain missing entries.</li>\n",
    "</ul>"
   ]
  },
  {
   "cell_type": "code",
   "execution_count": 9,
   "id": "640cca01-ed47-4e5e-a035-d3c8acf3efce",
   "metadata": {},
   "outputs": [
    {
     "name": "stdout",
     "output_type": "stream",
     "text": [
      "Number of rows: 40000\n",
      "Number of variables: 7\n"
     ]
    }
   ],
   "source": [
    "rows, variables = df.shape\n",
    "print(f\"Number of rows: {rows}\")\n",
    "print(f\"Number of variables: {variables}\")"
   ]
  },
  {
   "cell_type": "code",
   "execution_count": 10,
   "id": "eea30f0c-114a-4548-a013-635255d2214c",
   "metadata": {},
   "outputs": [
    {
     "data": {
      "text/plain": [
       "Student ID                                     False\n",
       "Passed                                          True\n",
       "Study Hours per Week                            True\n",
       "Attendance Rate                                 True\n",
       "Previous Grades                                 True\n",
       "Participation in Extracurricular Activities     True\n",
       "Parent Education Level                          True\n",
       "dtype: bool"
      ]
     },
     "execution_count": 10,
     "metadata": {},
     "output_type": "execute_result"
    }
   ],
   "source": [
    "df.isna().any()"
   ]
  },
  {
   "cell_type": "code",
   "execution_count": 11,
   "id": "3b70837d-5c25-4f54-9b41-318f0fc9d3e0",
   "metadata": {},
   "outputs": [
    {
     "data": {
      "text/plain": [
       "Student ID                                        0\n",
       "Passed                                         2000\n",
       "Study Hours per Week                           1995\n",
       "Attendance Rate                                1992\n",
       "Previous Grades                                1994\n",
       "Participation in Extracurricular Activities    2000\n",
       "Parent Education Level                         2000\n",
       "dtype: int64"
      ]
     },
     "execution_count": 11,
     "metadata": {},
     "output_type": "execute_result"
    }
   ],
   "source": [
    "df.isna().sum()"
   ]
  },
  {
   "cell_type": "markdown",
   "id": "0da145b4-830a-41ce-9986-ba2a3bc21912",
   "metadata": {},
   "source": [
    "#### 2. Check duplicate values\n",
    "No duplicate values are found."
   ]
  },
  {
   "cell_type": "code",
   "execution_count": 13,
   "id": "1ee7b6af-fc7a-4885-8e77-c7ddee9e2145",
   "metadata": {},
   "outputs": [
    {
     "data": {
      "text/plain": [
       "0"
      ]
     },
     "execution_count": 13,
     "metadata": {},
     "output_type": "execute_result"
    }
   ],
   "source": [
    "df.duplicated().sum()"
   ]
  },
  {
   "cell_type": "markdown",
   "id": "d9e81dc8-7ce1-4c5a-a4ee-7a8577165067",
   "metadata": {},
   "source": [
    "#### 3. Check class distribution\n",
    "Class sizes are almost equal; the dataset is balanced."
   ]
  },
  {
   "cell_type": "code",
   "execution_count": 15,
   "id": "15ece222-1259-463e-976e-c9cd141099ad",
   "metadata": {},
   "outputs": [
    {
     "data": {
      "text/plain": [
       "Passed\n",
       "Yes    19011\n",
       "No     18989\n",
       "Name: count, dtype: int64"
      ]
     },
     "execution_count": 15,
     "metadata": {},
     "output_type": "execute_result"
    }
   ],
   "source": [
    "df['Passed'].value_counts()"
   ]
  },
  {
   "cell_type": "markdown",
   "id": "b2523942-b74b-41ee-b1e3-133e5f2c99f7",
   "metadata": {},
   "source": [
    "#### 4. Check all unique values of each variable\n",
    "Doing so gives us a sense of necessary data conversion needed.\n",
    "By checking unique values of each variable, we can see that:\n",
    "<ul>\n",
    "    <li>Study Hours per Week: values range from -12.3 to 32.4, indicating potential outliers or errors.</li>\n",
    "    <li>Attendance Rate: some values exceed 100%.</li>\n",
    "    <li>Previous Grades: values primarily range between 0 and 100, but some values exceed 100. </li>\n",
    "    <li>Parent Education Level: contains nominal categorical values.</li>\n",
    "</ul>"
   ]
  },
  {
   "cell_type": "code",
   "execution_count": 17,
   "id": "8707e56c-c10b-4e6d-ab5d-6a0ddf0fb175",
   "metadata": {},
   "outputs": [
    {
     "data": {
      "text/plain": [
       "Student ID                                     40000\n",
       "Passed                                             2\n",
       "Study Hours per Week                             355\n",
       "Attendance Rate                                 1235\n",
       "Previous Grades                                  956\n",
       "Participation in Extracurricular Activities        2\n",
       "Parent Education Level                             5\n",
       "dtype: int64"
      ]
     },
     "execution_count": 17,
     "metadata": {},
     "output_type": "execute_result"
    }
   ],
   "source": [
    "df.nunique()"
   ]
  },
  {
   "cell_type": "markdown",
   "id": "f1dc90cd-d2c9-48f0-b264-5eeea86f7782",
   "metadata": {},
   "source": [
    "### D. Cleaning and Preprocessing Data"
   ]
  },
  {
   "cell_type": "code",
   "execution_count": 19,
   "id": "878241c3-2a77-4612-8809-38ebce482bfa",
   "metadata": {},
   "outputs": [],
   "source": [
    "# Create a copy of the original data frame\n",
    "df_copy = copy.copy(df)"
   ]
  },
  {
   "cell_type": "code",
   "execution_count": 20,
   "id": "c2588cdf-12b5-4ca8-a58c-99a3a2602017",
   "metadata": {},
   "outputs": [],
   "source": [
    "df_copy.drop(columns=['Student ID'], inplace=True)"
   ]
  },
  {
   "cell_type": "markdown",
   "id": "415af1c9-015e-49d7-baec-d6d73c3cf484",
   "metadata": {},
   "source": [
    "#### 1. Handle outliers\n",
    "<ul>\n",
    "    <li>Study Hours per Week: negative values are replaced with absolute value, transforming the negative hours into positive</li>\n",
    "    <li>Attendance Rate: values greater than 100 or less than 0 are removed</li>\n",
    "    <li>Previous Grades: values greater than 100 are removed</li>\n",
    "</ul>"
   ]
  },
  {
   "cell_type": "code",
   "execution_count": 22,
   "id": "edb1ce34-6228-4210-84d6-5f98e1708f24",
   "metadata": {},
   "outputs": [],
   "source": [
    "df_copy['Study Hours per Week'] = df_copy['Study Hours per Week'].abs()"
   ]
  },
  {
   "cell_type": "code",
   "execution_count": 23,
   "id": "cee4bbb6-ef7a-4d68-a771-72ebae0cff4c",
   "metadata": {},
   "outputs": [],
   "source": [
    "df_copy = df_copy[(df_copy['Attendance Rate'] >= 0) & (df_copy['Attendance Rate'] <= 100)]"
   ]
  },
  {
   "cell_type": "code",
   "execution_count": 24,
   "id": "c8b0fb0a-1c30-447d-ab05-e3c6bdd429f5",
   "metadata": {},
   "outputs": [],
   "source": [
    "df_copy = df_copy[df_copy['Previous Grades'] <= 100]"
   ]
  },
  {
   "cell_type": "markdown",
   "id": "cdc2f609-f5b0-4701-bb13-794e661598a6",
   "metadata": {},
   "source": [
    "#### 2. Impute missing values"
   ]
  },
  {
   "cell_type": "code",
   "execution_count": 26,
   "id": "97bf6291-5a20-4a74-9a75-70c15097ea41",
   "metadata": {},
   "outputs": [],
   "source": [
    "df_copy['Attendance Rate'].fillna(df_copy['Attendance Rate'].mean(), inplace=True)\n",
    "df_copy['Attendance Rate'] = df_copy['Attendance Rate'].round(2)\n",
    "df_copy['Study Hours per Week'].fillna(df_copy['Study Hours per Week'].mean(), inplace=True)\n",
    "df_copy['Previous Grades'].fillna(df_copy['Previous Grades'].mean(), inplace=True)\n",
    "df_copy['Parent Education Level'].fillna(df_copy['Parent Education Level'].mode()[0], inplace=True)\n",
    "df_copy['Participation in Extracurricular Activities'].fillna(df_copy['Participation in Extracurricular Activities'].mode()[0], inplace=True)\n",
    "df_copy['Passed'].fillna(df_copy['Passed'].mode()[0], inplace=True)"
   ]
  },
  {
   "cell_type": "code",
   "execution_count": 27,
   "id": "0be37508-0f00-4190-93d6-1e7f5a1033ab",
   "metadata": {},
   "outputs": [
    {
     "data": {
      "text/plain": [
       "Passed                                         0\n",
       "Study Hours per Week                           0\n",
       "Attendance Rate                                0\n",
       "Previous Grades                                0\n",
       "Participation in Extracurricular Activities    0\n",
       "Parent Education Level                         0\n",
       "dtype: int64"
      ]
     },
     "execution_count": 27,
     "metadata": {},
     "output_type": "execute_result"
    }
   ],
   "source": [
    "df_copy.isna().sum()"
   ]
  },
  {
   "cell_type": "code",
   "execution_count": 28,
   "id": "73d16117-ed82-45af-b9cc-4ef6f99b35ae",
   "metadata": {},
   "outputs": [
    {
     "data": {
      "text/plain": [
       "(31774, 6)"
      ]
     },
     "execution_count": 28,
     "metadata": {},
     "output_type": "execute_result"
    }
   ],
   "source": [
    "df_copy.shape"
   ]
  },
  {
   "cell_type": "code",
   "execution_count": 29,
   "id": "4d3da74d-171e-4dbe-b4a1-8f26faa90e57",
   "metadata": {},
   "outputs": [
    {
     "data": {
      "text/plain": [
       "Passed                                           2\n",
       "Study Hours per Week                           273\n",
       "Attendance Rate                                866\n",
       "Previous Grades                                814\n",
       "Participation in Extracurricular Activities      2\n",
       "Parent Education Level                           5\n",
       "dtype: int64"
      ]
     },
     "execution_count": 29,
     "metadata": {},
     "output_type": "execute_result"
    }
   ],
   "source": [
    "df_copy.nunique()"
   ]
  },
  {
   "cell_type": "markdown",
   "id": "13eb6998-80b4-47a6-b93d-e3eaec1e5c66",
   "metadata": {},
   "source": [
    "#### 3. Converse data\n",
    "<ul>\n",
    "    <li> For the 2 binary variables, I replaced their binary values with 0’s and 1’s.\n",
    "    <li> For the nominal categorical variable Parent Education Level, I used one-hot encoding to handle it.\n",
    "<ul>"
   ]
  },
  {
   "cell_type": "code",
   "execution_count": 31,
   "id": "2369d3b6-4ffd-49a1-976d-58b485eb5172",
   "metadata": {},
   "outputs": [],
   "source": [
    "# Encode binary variables\n",
    "df_copy.replace(('Yes', 'No'), (1,0), inplace=True)"
   ]
  },
  {
   "cell_type": "code",
   "execution_count": 32,
   "id": "4eacda24-617b-47e7-81fe-12629690eb39",
   "metadata": {},
   "outputs": [],
   "source": [
    "# Create one copy of the copied version that experienced the cleaning data process from missing values and outliers\n",
    "df_copy2 = copy.copy(df_copy)"
   ]
  },
  {
   "cell_type": "code",
   "execution_count": 33,
   "id": "95b597ff-5489-4d98-90ac-f5001fe68f8b",
   "metadata": {},
   "outputs": [],
   "source": [
    "# One-hot encoding\n",
    "df_copy2 = df_copy2.join(pd.get_dummies(df_copy2['Parent Education Level'], drop_first=False)) #Keep all newly generated features for classification\n",
    "df_copy2 = df_copy2.drop(columns='Parent Education Level')"
   ]
  },
  {
   "cell_type": "code",
   "execution_count": 34,
   "id": "187b6a10-c5ea-4289-9a6e-76eb586a1433",
   "metadata": {},
   "outputs": [
    {
     "data": {
      "text/html": [
       "<div>\n",
       "<style scoped>\n",
       "    .dataframe tbody tr th:only-of-type {\n",
       "        vertical-align: middle;\n",
       "    }\n",
       "\n",
       "    .dataframe tbody tr th {\n",
       "        vertical-align: top;\n",
       "    }\n",
       "\n",
       "    .dataframe thead th {\n",
       "        text-align: right;\n",
       "    }\n",
       "</style>\n",
       "<table border=\"1\" class=\"dataframe\">\n",
       "  <thead>\n",
       "    <tr style=\"text-align: right;\">\n",
       "      <th></th>\n",
       "      <th>Passed</th>\n",
       "      <th>Study Hours per Week</th>\n",
       "      <th>Attendance Rate</th>\n",
       "      <th>Previous Grades</th>\n",
       "      <th>Participation in Extracurricular Activities</th>\n",
       "      <th>Associate</th>\n",
       "      <th>Bachelor</th>\n",
       "      <th>Doctorate</th>\n",
       "      <th>High School</th>\n",
       "      <th>Master</th>\n",
       "    </tr>\n",
       "  </thead>\n",
       "  <tbody>\n",
       "    <tr>\n",
       "      <th>1</th>\n",
       "      <td>0</td>\n",
       "      <td>9.3</td>\n",
       "      <td>95.3</td>\n",
       "      <td>60.6</td>\n",
       "      <td>0</td>\n",
       "      <td>False</td>\n",
       "      <td>False</td>\n",
       "      <td>False</td>\n",
       "      <td>True</td>\n",
       "      <td>False</td>\n",
       "    </tr>\n",
       "    <tr>\n",
       "      <th>3</th>\n",
       "      <td>0</td>\n",
       "      <td>17.6</td>\n",
       "      <td>76.8</td>\n",
       "      <td>62.4</td>\n",
       "      <td>1</td>\n",
       "      <td>False</td>\n",
       "      <td>True</td>\n",
       "      <td>False</td>\n",
       "      <td>False</td>\n",
       "      <td>False</td>\n",
       "    </tr>\n",
       "    <tr>\n",
       "      <th>4</th>\n",
       "      <td>0</td>\n",
       "      <td>8.8</td>\n",
       "      <td>89.3</td>\n",
       "      <td>72.7</td>\n",
       "      <td>0</td>\n",
       "      <td>False</td>\n",
       "      <td>False</td>\n",
       "      <td>False</td>\n",
       "      <td>False</td>\n",
       "      <td>True</td>\n",
       "    </tr>\n",
       "    <tr>\n",
       "      <th>5</th>\n",
       "      <td>1</td>\n",
       "      <td>8.8</td>\n",
       "      <td>73.8</td>\n",
       "      <td>69.3</td>\n",
       "      <td>1</td>\n",
       "      <td>False</td>\n",
       "      <td>False</td>\n",
       "      <td>False</td>\n",
       "      <td>True</td>\n",
       "      <td>False</td>\n",
       "    </tr>\n",
       "    <tr>\n",
       "      <th>6</th>\n",
       "      <td>1</td>\n",
       "      <td>17.9</td>\n",
       "      <td>38.6</td>\n",
       "      <td>93.6</td>\n",
       "      <td>0</td>\n",
       "      <td>False</td>\n",
       "      <td>False</td>\n",
       "      <td>True</td>\n",
       "      <td>False</td>\n",
       "      <td>False</td>\n",
       "    </tr>\n",
       "  </tbody>\n",
       "</table>\n",
       "</div>"
      ],
      "text/plain": [
       "   Passed  Study Hours per Week  Attendance Rate  Previous Grades  \\\n",
       "1       0                   9.3             95.3             60.6   \n",
       "3       0                  17.6             76.8             62.4   \n",
       "4       0                   8.8             89.3             72.7   \n",
       "5       1                   8.8             73.8             69.3   \n",
       "6       1                  17.9             38.6             93.6   \n",
       "\n",
       "   Participation in Extracurricular Activities  Associate  Bachelor  \\\n",
       "1                                            0      False     False   \n",
       "3                                            1      False      True   \n",
       "4                                            0      False     False   \n",
       "5                                            1      False     False   \n",
       "6                                            0      False     False   \n",
       "\n",
       "   Doctorate  High School  Master  \n",
       "1      False         True   False  \n",
       "3      False        False   False  \n",
       "4      False        False    True  \n",
       "5      False         True   False  \n",
       "6       True        False   False  "
      ]
     },
     "execution_count": 34,
     "metadata": {},
     "output_type": "execute_result"
    }
   ],
   "source": [
    "df_copy2.head(5)"
   ]
  },
  {
   "cell_type": "code",
   "execution_count": 35,
   "id": "dceb338c-ac86-41fb-aa6c-e745c408ee50",
   "metadata": {},
   "outputs": [
    {
     "name": "stdout",
     "output_type": "stream",
     "text": [
      "Number of rows: 31774\n",
      "Number of variables: 10\n"
     ]
    }
   ],
   "source": [
    "rows, variables = df_copy2.shape\n",
    "print(f\"Number of rows: {rows}\")\n",
    "print(f\"Number of variables: {variables}\")"
   ]
  },
  {
   "cell_type": "code",
   "execution_count": 36,
   "id": "57c4ec38-6b68-4e5a-b27c-a1ad1ccff2d2",
   "metadata": {},
   "outputs": [
    {
     "data": {
      "text/plain": [
       "Passed                                         0\n",
       "Study Hours per Week                           0\n",
       "Attendance Rate                                0\n",
       "Previous Grades                                0\n",
       "Participation in Extracurricular Activities    0\n",
       "Associate                                      0\n",
       "Bachelor                                       0\n",
       "Doctorate                                      0\n",
       "High School                                    0\n",
       "Master                                         0\n",
       "dtype: int64"
      ]
     },
     "execution_count": 36,
     "metadata": {},
     "output_type": "execute_result"
    }
   ],
   "source": [
    "df_copy2.isna().sum()"
   ]
  },
  {
   "cell_type": "code",
   "execution_count": 37,
   "id": "4fb1decb-67de-498f-815d-8815a1b37e30",
   "metadata": {},
   "outputs": [
    {
     "data": {
      "text/plain": [
       "Passed\n",
       "0    16762\n",
       "1    15012\n",
       "Name: count, dtype: int64"
      ]
     },
     "execution_count": 37,
     "metadata": {},
     "output_type": "execute_result"
    }
   ],
   "source": [
    "df_copy2['Passed'].value_counts()"
   ]
  },
  {
   "cell_type": "code",
   "execution_count": 38,
   "id": "a46fa762-aec7-4f65-b32b-d1d1c2ac7923",
   "metadata": {},
   "outputs": [
    {
     "data": {
      "text/plain": [
       "Passed                                           2\n",
       "Study Hours per Week                           273\n",
       "Attendance Rate                                866\n",
       "Previous Grades                                814\n",
       "Participation in Extracurricular Activities      2\n",
       "Associate                                        2\n",
       "Bachelor                                         2\n",
       "Doctorate                                        2\n",
       "High School                                      2\n",
       "Master                                           2\n",
       "dtype: int64"
      ]
     },
     "execution_count": 38,
     "metadata": {},
     "output_type": "execute_result"
    }
   ],
   "source": [
    "df_copy2.nunique()"
   ]
  },
  {
   "cell_type": "code",
   "execution_count": 39,
   "id": "8660e2a1-edf5-492d-b872-cd9266db10f4",
   "metadata": {},
   "outputs": [
    {
     "data": {
      "text/plain": [
       "Passed                                           int64\n",
       "Study Hours per Week                           float64\n",
       "Attendance Rate                                float64\n",
       "Previous Grades                                float64\n",
       "Participation in Extracurricular Activities      int64\n",
       "Associate                                         bool\n",
       "Bachelor                                          bool\n",
       "Doctorate                                         bool\n",
       "High School                                       bool\n",
       "Master                                            bool\n",
       "dtype: object"
      ]
     },
     "execution_count": 39,
     "metadata": {},
     "output_type": "execute_result"
    }
   ],
   "source": [
    "df_copy2.dtypes"
   ]
  },
  {
   "cell_type": "markdown",
   "id": "2b88098a-9f68-4235-a57f-7ccdb7b76f18",
   "metadata": {},
   "source": [
    "#### 4. Check correlation among feature variables\n",
    "After encoding all variables, I found no significant correlations. Therefore, from the statistical point of view, we could keep all variables when modeling."
   ]
  },
  {
   "cell_type": "code",
   "execution_count": 41,
   "id": "2c40cf8d-433b-4bcd-be1c-456fbd84e349",
   "metadata": {},
   "outputs": [
    {
     "data": {
      "image/png": "[encoded data removed]",
      "text/plain": [
       "<Figure size 800x600 with 2 Axes>"
      ]
     },
     "metadata": {},
     "output_type": "display_data"
    }
   ],
   "source": [
    "corr = df_copy2.corr()\n",
    "fig = plt.figure(figsize=(8, 6))\n",
    "ax = fig.add_subplot(111)\n",
    "cax = ax.matshow(corr,cmap='coolwarm', vmin=-1, vmax=1)\n",
    "fig.colorbar(cax)\n",
    "ticks = np.arange(0,len(df_copy2.columns),1)\n",
    "ax.set_xticks(ticks)\n",
    "plt.xticks(rotation=90, fontsize=12, color = 'k')\n",
    "plt.yticks(fontsize=12, color = 'k')\n",
    "ax.set_yticks(ticks)\n",
    "ax.set_xticklabels(df_copy2.columns, color = 'k')\n",
    "ax.set_yticklabels(df_copy2.columns, color = 'k')\n",
    "plt.show()"
   ]
  },
  {
   "cell_type": "markdown",
   "id": "705ac857-990b-47c6-9224-a9f857188efb",
   "metadata": {},
   "source": [
    "### E. Modeling "
   ]
  },
  {
   "cell_type": "markdown",
   "id": "15284258-5a78-4f33-a90d-461c366d6472",
   "metadata": {},
   "source": [
    "Using encoded variables and splitting them into 80% training, 10% validation, and 10% testing sets with stratify = y, I then tried multiple models and the grid search method to find the models and parameters that performed the best. Since the label variable and the feature variables are categorical/binary variables, I tried classification models only."
   ]
  },
  {
   "cell_type": "code",
   "execution_count": 44,
   "id": "ec16a1d0-201c-45b9-b5b0-066d172abfa9",
   "metadata": {},
   "outputs": [],
   "source": [
    "# Separate features and target variable\n",
    "X = df_copy2.drop(columns=['Passed'])  # Features\n",
    "y = df_copy2['Passed']                 # Target\n",
    "# Split the dataset into training, validation, and test sets\n",
    "X_train, X_tmp, y_train, y_tmp = train_test_split(X, y, test_size=0.2, random_state=0, stratify=y)\n",
    "X_valid, X_test, y_valid, y_test = train_test_split(X_tmp, y_tmp, test_size=0.5, random_state=0, stratify=y_tmp)"
   ]
  },
  {
   "cell_type": "code",
   "execution_count": 45,
   "id": "fbf7416f-9c23-41c6-84b8-012bdf36e667",
   "metadata": {},
   "outputs": [
    {
     "name": "stdout",
     "output_type": "stream",
     "text": [
      "X_train shape: (25419, 9)\n",
      "y_train shape: (25419,)\n",
      "X_test shape: (3178, 9)\n",
      "y_test shape: (3178,)\n"
     ]
    }
   ],
   "source": [
    "print(\"X_train shape:\", X_train.shape)\n",
    "print(\"y_train shape:\", y_train.shape)\n",
    "print(\"X_test shape:\", X_test.shape)\n",
    "print(\"y_test shape:\", y_test.shape)"
   ]
  },
  {
   "cell_type": "code",
   "execution_count": 46,
   "id": "ef48b9ed-0411-41d0-8347-ee8f82844cc1",
   "metadata": {},
   "outputs": [
    {
     "name": "stdout",
     "output_type": "stream",
     "text": [
      "Class Weights: {0: 0.9478335446342009, 1: 1.0582431307243962}\n"
     ]
    }
   ],
   "source": [
    "# Convert the classes to numpy array\n",
    "classes_array = np.array([0, 1])\n",
    "\n",
    "# Compute class weights\n",
    "class_weights = compute_class_weight(class_weight='balanced', classes=classes_array, y=y_train)\n",
    "class_weights_dict = {0: class_weights[0], 1: class_weights[1]}\n",
    "\n",
    "print(\"Class Weights:\", class_weights_dict)"
   ]
  },
  {
   "cell_type": "code",
   "execution_count": 47,
   "id": "7f349b13-01a6-4414-b302-480fe449fad3",
   "metadata": {},
   "outputs": [],
   "source": [
    "# Scale the numerical features (Study Hours per Week, Attendance Rate, Previous Grades)\n",
    "scaler = MinMaxScaler()\n",
    "\n",
    "# Apply MinMaxScaler to the specified columns in the training, validation, and test sets\n",
    "X_train[['Study Hours per Week', 'Attendance Rate', 'Previous Grades']] = scaler.fit_transform(\n",
    "    X_train[['Study Hours per Week', 'Attendance Rate', 'Previous Grades']]\n",
    ")\n",
    "X_valid[['Study Hours per Week', 'Attendance Rate', 'Previous Grades']] = scaler.transform(\n",
    "    X_valid[['Study Hours per Week', 'Attendance Rate', 'Previous Grades']]\n",
    ")\n",
    "X_test[['Study Hours per Week', 'Attendance Rate', 'Previous Grades']] = scaler.transform(\n",
    "    X_test[['Study Hours per Week', 'Attendance Rate', 'Previous Grades']]\n",
    ")"
   ]
  },
  {
   "cell_type": "markdown",
   "id": "a24d4f7d-7cea-47d4-8eeb-5e78ae170ed9",
   "metadata": {},
   "source": [
    "#### Experimenting with Logistic Regression, Decision Tree, Random Forest, Gradient Boosting\n",
    "<ul>\n",
    "    <li> All ML models achieve an accuracy of around 50%-53%, even using class_weight to deal with class imbalance, changing hyperparameters in each model, and trying different data split, suggesting that the models struggle to differentiate between classes effectively.\n",
    "    <li> The potential reason for the limited performance and the area for improvement:\n",
    "    <ul>\n",
    "        <li> The input features do not have a strong correlation with a target variable, so the features might not contain enough information to distinguish between the classes => The dataset may not be ideal for building predictive models\n",
    "        <li> The current dataset should add more features with significant predictive power, such as participation in class through discussion, accumulative grade, teaching quality and etc. </li>\n",
    "    </ul>\n",
    "</ul>"
   ]
  },
  {
   "cell_type": "code",
   "execution_count": null,
   "id": "d44bba66-f689-48c6-8bac-a8e08a236119",
   "metadata": {
    "scrolled": true
   },
   "outputs": [
    {
     "name": "stdout",
     "output_type": "stream",
     "text": [
      "Running GridSearchCV for Logistic Regression\n",
      "Fitting 5 folds for each of 16 candidates, totalling 80 fits\n",
      "Best parameters for Logistic Regression: {'C': 0.01, 'class_weight': {0: 0.9478335446342009, 1: 1.0582431307243962}, 'max_iter': 500, 'penalty': 'l2', 'solver': 'lbfgs'}\n",
      "Validation Accuracy for Logistic Regression: 0.5136921624173749\n",
      "--------------------------------------------------\n",
      "Running GridSearchCV for Decision Tree\n",
      "Fitting 5 folds for each of 27 candidates, totalling 135 fits\n",
      "Best parameters for Decision Tree: {'class_weight': {0: 0.9478335446342009, 1: 1.0582431307243962}, 'max_depth': 10, 'min_samples_leaf': 10, 'min_samples_split': 2}\n",
      "Validation Accuracy for Decision Tree: 0.5001573811772112\n",
      "--------------------------------------------------\n",
      "Running GridSearchCV for Random Forest\n",
      "Fitting 5 folds for each of 36 candidates, totalling 180 fits\n",
      "Best parameters for Random Forest: {'class_weight': {0: 0.9478335446342009, 1: 1.0582431307243962}, 'max_depth': None, 'min_samples_leaf': 5, 'min_samples_split': 5, 'n_estimators': 100}\n",
      "Validation Accuracy for Random Forest: 0.5140069247717973\n",
      "--------------------------------------------------\n",
      "Running GridSearchCV for Gradient Boosting\n",
      "Fitting 5 folds for each of 108 candidates, totalling 540 fits\n"
     ]
    }
   ],
   "source": [
    "models = {\n",
    "    \"Logistic Regression\": linear_model.LogisticRegression(),\n",
    "    \"Decision Tree\": DecisionTreeClassifier(),\n",
    "    \"Random Forest\": RandomForestClassifier(),\n",
    "    \"Gradient Boosting\": GradientBoostingClassifier()\n",
    "}\n",
    "param_grids = {\n",
    "    \"Logistic Regression\": {'C': [0.01, 0.1, 1, 10], 'penalty': ['l2'], 'solver': ['liblinear', 'lbfgs'], 'max_iter': [500, 1000], 'class_weight':[class_weights_dict]},\n",
    "    \"Decision Tree\": {'max_depth': [5, 10, 20],'min_samples_split': [2, 10, 20],'min_samples_leaf': [2, 5, 10], 'class_weight': [class_weights_dict]},\n",
    "    \"Random Forest\": {'n_estimators': [50, 100, 200],'max_depth': [10, 20, None],'min_samples_split': [5, 10], 'min_samples_leaf': [2, 5],'class_weight': [class_weights_dict]},\n",
    "    \"Gradient Boosting\": {'learning_rate': [0.01, 0.1, 0.2],'n_estimators': [50, 100, 200],'max_depth': [3, 5, 7], 'min_samples_split': [5, 10],'min_samples_leaf': [2, 5]}\n",
    "}\n",
    "for model_name, model in models.items():\n",
    "    print(f\"Running GridSearchCV for {model_name}\")\n",
    "    grid_search = GridSearchCV(estimator=model, param_grid=param_grids[model_name],\n",
    "                               cv=5, n_jobs=-1, verbose=2, scoring='accuracy')\n",
    "    grid_search.fit(X_train, y_train)\n",
    "    \n",
    "    print(f\"Best parameters for {model_name}: {grid_search.best_params_}\")\n",
    "    best_model = grid_search.best_estimator_\n",
    "    y_pred = best_model.predict(X_valid)\n",
    "    print(f\"Validation Accuracy for {model_name}: {accuracy_score(y_valid, y_pred)}\")\n",
    "    print(\"-\" * 50)\n"
   ]
  },
  {
   "cell_type": "code",
   "execution_count": null,
   "id": "b1ab2729-0341-46d6-abac-d957c9570bbc",
   "metadata": {},
   "outputs": [],
   "source": []
  },
  {
   "cell_type": "markdown",
   "id": "23bbf9c9-773c-4cc0-a44b-b6fec55e4915",
   "metadata": {},
   "source": [
    "#### Check the relationship among input feature variables and target variable\n",
    "Both numerical and categorical features show weak or negligible relationships with the target variable (Passed), indicating that these features alone are insufficient predictors\n",
    "<ul>\n",
    "    <li> All numerical features have correlations close to zero, so they are not strongly related to the target variable.\n",
    "    <li> None of the categorical features have a statistically significant relationship with the target variable, as all p-values are greater than 0.05.\n",
    "<ul>"
   ]
  },
  {
   "cell_type": "code",
   "execution_count": null,
   "id": "790f9f41-700f-46ae-b365-799270e3f748",
   "metadata": {},
   "outputs": [],
   "source": [
    "# Use Point Biserial Correlation to check the relationship between numerical input features and the target variable\n",
    "target = \"Passed\"\n",
    "for col in df_copy2.select_dtypes(include=['int64', 'float64']).columns:\n",
    "    if col != target:\n",
    "        corr, _ = pointbiserialr(df_copy2[col], df_copy2[target])\n",
    "        print(f\"Point Biserial Correlation between {col} and {target}: {corr}\")"
   ]
  },
  {
   "cell_type": "code",
   "execution_count": null,
   "id": "f3d7df15-9840-4e51-8a48-ca6bb0d5ebec",
   "metadata": {},
   "outputs": [],
   "source": [
    "# Use the Chi-Squared Test to test the dependencies of boolean input features with the target variable\n",
    "target = \"Passed\"\n",
    "for col in df_copy2.select_dtypes(include=['bool']).columns:\n",
    "    if col != target:\n",
    "        contingency_table = pd.crosstab(df_copy2[col], df_copy2[target])\n",
    "        chi2, p, dof, _ = chi2_contingency(contingency_table)\n",
    "        print(f\"Chi2 Test for {col}: Chi2={chi2}, p-value={p}\")"
   ]
  },
  {
   "cell_type": "code",
   "execution_count": null,
   "id": "4eae52fa-193b-4dde-b4fe-c9d06f98956d",
   "metadata": {},
   "outputs": [],
   "source": []
  },
  {
   "cell_type": "code",
   "execution_count": null,
   "id": "2fcdd5f5-33e5-4ff7-a963-681a5f0ecf51",
   "metadata": {},
   "outputs": [],
   "source": [
    "#Save the cleaned data to a CSV file\n",
    "#df_copy2.to_csv('clean_data.csv', index=False)"
   ]
  },
  {
   "cell_type": "code",
   "execution_count": null,
   "id": "da024b13-25cc-4099-9f66-1c50f4fbcaa7",
   "metadata": {},
   "outputs": [],
   "source": [
    "#from IPython.display import FileLink\n",
    "\n",
    "# Generate a download link\n",
    "#display(FileLink('clean_data.csv'))"
   ]
  }
 ],
 "metadata": {
  "kernelspec": {
   "display_name": "Python 3 (ipykernel)",
   "language": "python",
   "name": "python3"
  },
  "language_info": {
   "codemirror_mode": {
    "name": "ipython",
    "version": 3
   },
   "file_extension": ".py",
   "mimetype": "text/x-python",
   "name": "python",
   "nbconvert_exporter": "python",
   "pygments_lexer": "ipython3",
   "version": "3.12.4"
  }
 },
 "nbformat": 4,
 "nbformat_minor": 5
}
